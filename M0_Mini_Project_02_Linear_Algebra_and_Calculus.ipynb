{
  "nbformat": 4,
  "nbformat_minor": 0,
  "metadata": {
    "colab": {
      "name": "M0_Mini_Project_02_Linear_Algebra_and_Calculus.ipynb",
      "provenance": [],
      "collapsed_sections": [],
      "include_colab_link": true
    },
    "kernelspec": {
      "display_name": "Python 3",
      "language": "python",
      "name": "python3"
    },
    "language_info": {
      "codemirror_mode": {
        "name": "ipython",
        "version": 3
      },
      "file_extension": ".py",
      "mimetype": "text/x-python",
      "name": "python",
      "nbconvert_exporter": "python",
      "pygments_lexer": "ipython3",
      "version": "3.8.5"
    }
  },
  "cells": [
    {
      "cell_type": "markdown",
      "metadata": {
        "id": "view-in-github",
        "colab_type": "text"
      },
      "source": [
        "<a href=\"https://colab.research.google.com/github/soumik-mukherjee/amplify-gatsby-webapp-template/blob/master/M0_Mini_Project_02_Linear_Algebra_and_Calculus.ipynb\" target=\"_parent\"><img src=\"https://colab.research.google.com/assets/colab-badge.svg\" alt=\"Open In Colab\"/></a>"
      ]
    },
    {
      "cell_type": "markdown",
      "metadata": {
        "id": "Vf7UdufgUVRm"
      },
      "source": [
        "# Advanced Certification Program in Computational Data Science\n",
        "## A program by IISc and TalentSprint\n",
        "### Mini Project Notebook 2: Linear Algebra and Calculus\n",
        "(Ungraded Mini-Project)"
      ]
    },
    {
      "cell_type": "markdown",
      "metadata": {
        "id": "TnGEuHJusOup"
      },
      "source": [
        "## Problem Statement"
      ]
    },
    {
      "cell_type": "markdown",
      "metadata": {
        "id": "xlkm2qM2sQ-T"
      },
      "source": [
        " The task is to advise a petroleum company on how to meet the demands of their customers for motor oil, diesel oil and gasoline."
      ]
    },
    {
      "cell_type": "markdown",
      "metadata": {
        "id": "cs0B3ScgUVRv"
      },
      "source": [
        "## Learning Objectives"
      ]
    },
    {
      "cell_type": "markdown",
      "metadata": {
        "id": "Sq5piVQRUVRw"
      },
      "source": [
        "At the end of the experiment, you will be able to\n",
        "\n",
        "* create arrays and matrices in python\n",
        "* understand the concepts of linear equations\n",
        "* solve the system of linear equations"
      ]
    },
    {
      "cell_type": "markdown",
      "metadata": {
        "id": "IvKa0MVttqXf"
      },
      "source": [
        "### Data"
      ]
    },
    {
      "cell_type": "markdown",
      "metadata": {
        "id": "dRrGFyZOtsAj"
      },
      "source": [
        "From a barrel of crude oil, in one day, factory $A$ can produce \n",
        "* 20 gallons of motor oil, \n",
        "* 10 gallons of diesel oil, and \n",
        "* 5 gallons of gasoline \n",
        "\n",
        "Similarly, factory $B$ can produce \n",
        "* 4 gallons of motor oil, \n",
        "* 14 gallons of diesel oil, and \n",
        "* 5 gallons of gasoline\n",
        " \n",
        "while factory $C$ can produce \n",
        "* 4 gallons of motor oil,\n",
        "* 5 gallons of diesel oil, and \n",
        "* 12 gallons of gasoline \n",
        "\n",
        "There is also waste in the form of paraffin, among other things. Factory $A$ has 3 gallons of paraffin to dispose of per barrel of crude, factory $B$ 5 gallons, and factory $C$ 2 gallons."
      ]
    },
    {
      "cell_type": "markdown",
      "metadata": {
        "id": "UK_englE4HnA"
      },
      "source": [
        "**Note:** Your conclusion should include a discussion of the nature of the terms *unique*, *no solution*, *overdetermined* and *underdetermined* as they apply in the context of the oil plants."
      ]
    },
    {
      "cell_type": "markdown",
      "metadata": {
        "id": "zAitCztdraex"
      },
      "source": [
        "### Create an array \n",
        "\n",
        "Create an array of size 2x3 with arbitrary values."
      ]
    },
    {
      "cell_type": "code",
      "metadata": {
        "id": "owKFXLLzrqVb",
        "colab": {
          "base_uri": "https://localhost:8080/"
        },
        "outputId": "8d1dc809-3117-408b-df3d-40cf54192a11"
      },
      "source": [
        "import numpy as np\n",
        "data = np.random.rand(2,3)\n",
        "data"
      ],
      "execution_count": null,
      "outputs": [
        {
          "output_type": "execute_result",
          "data": {
            "text/plain": [
              "array([[0.99300416, 0.69038323, 0.87039337],\n",
              "       [0.34831392, 0.14372821, 0.0513761 ]])"
            ]
          },
          "metadata": {
            "tags": []
          },
          "execution_count": 1
        }
      ]
    },
    {
      "cell_type": "code",
      "metadata": {
        "id": "kz4MAlineXaL"
      },
      "source": [
        "# All other imports\n",
        "import sympy as sy\n",
        "import matplotlib.pyplot as plt\n",
        "import seaborn as sns\n",
        "sns.set_theme(style=\"darkgrid\")"
      ],
      "execution_count": null,
      "outputs": []
    },
    {
      "cell_type": "markdown",
      "metadata": {
        "id": "K_7EztnGvzDK"
      },
      "source": [
        "### Create the system of Linear Equation"
      ]
    },
    {
      "cell_type": "markdown",
      "metadata": {
        "id": "zL9M9kmrv_ZA"
      },
      "source": [
        "Suppose the current daily demand from distributors is 6600 gallons of motor oil, 5100 gallons of diesel oil and 3100 of gasoline.\n",
        "\n",
        "Set up the system of equations which describes the above situation. Please include the units as well."
      ]
    },
    {
      "cell_type": "markdown",
      "metadata": {
        "id": "nbOcii0EZpUI"
      },
      "source": [
        "Let the number of barrels used by factory $A$, $B$ and $C$ are $x$, $y$ and $z$ respectively.\n",
        "\n",
        "Then the system of linear equations will be\n",
        "\n",
        "$$Motor\\ oil:\\ \\ \\ 20x + 4y + 4z = 6600$$\n",
        "\n",
        "$$Diesel\\ oil:\\ \\ \\ 10x + 14y + 5z = 5100$$\n",
        "\n",
        "$$Gasoline:\\ \\ \\ 5x + 5y + 12z = 3100$$"
      ]
    },
    {
      "cell_type": "markdown",
      "metadata": {
        "id": "1qLF2LvG2I8Y"
      },
      "source": [
        "### Solve the system of Linear Equation"
      ]
    },
    {
      "cell_type": "markdown",
      "metadata": {
        "id": "FzjOkaq21_8L"
      },
      "source": [
        "How many barrels of crude oil each plant should get in order to meet the demand as a group. Remember that we can only provide each plant with an integral number of barrels."
      ]
    },
    {
      "cell_type": "markdown",
      "metadata": {
        "id": "YrOq92mcsU5v"
      },
      "source": [
        "#### Solution Prep\n",
        "\n",
        "Lets initialize a solution vector \n",
        "$\\mathbf{s} = [s_0, s_1, s_2, s_3]^\\top$ \n",
        "\n",
        "that will store our results. We want to see all results at the same time and be able to compare __visually__, for e.g. between $s_1$ and $s_3$.\n",
        "\n",
        "<br />\n",
        "The vector $\\mathbf{s}$ has $4$ dimensions as, we have $4$ scenarios, in this problem section. So $s_i$ is, in turn, the solution vector for the $i^{th}$ scenario\n",
        "\n",
        "The scenarios being,\n",
        "* $s_0$ - Solve the number of barrels problem given plant production rates & demand\n",
        "* $s_1$ - Solve same when demand is doubled\n",
        "* $s_2$ - Solve for new demand, treated in isolation from previous demand\n",
        "* $s_3$ - Solve for additional demand\n",
        "\n",
        "<br />"
      ]
    },
    {
      "cell_type": "markdown",
      "metadata": {
        "id": "z9mQTgR24RoF"
      },
      "source": [
        "Each scenario vector $s_i$ will have two dimensions, the first being $x$, representing the float values that solve the equations in that scenario, and, the other $y$ being the nearest highest integer, i.e. ceil function or $y = \\lceil x \\rceil\\$\n",
        "\n",
        "<br />\n",
        "Finally, both the vectors $x,y$ are $3$ dimensional, there being $3$ plants for which we have to solve, so,\n",
        "\n",
        "${x} \\in \\mathbb{R}^3, {y} \\in \\mathbb{N}^3$"
      ]
    },
    {
      "cell_type": "markdown",
      "metadata": {
        "id": "O3z0yjkm58ME"
      },
      "source": [
        "Summarising our solution vector $s \\in \\mathbb{R}^{4 \\times 2 \\times 3}$ as below,\n",
        "\n",
        "$\n",
        "\\begin{bmatrix} \n",
        "\\begin{bmatrix} x_0 , x_1, x_2 \\end{bmatrix}^\\top, \\begin{bmatrix} y_0 , y_1, y_2 \\end{bmatrix}^\\top \\\\ \\begin{bmatrix} x_3 , x_4, x_5 \\end{bmatrix}^\\top, \\begin{bmatrix} y_3 , y_4, y_5 \\end{bmatrix}^\\top \\\\ \\begin{bmatrix} x_6 , x_7, x_8 \\end{bmatrix}^\\top, \\begin{bmatrix} y_6 , y_7, y_8 \\end{bmatrix}^\\top \\\\ \\begin{bmatrix} x_9 , x_{10}, x_{11} \\end{bmatrix}^\\top, \\begin{bmatrix} y_9 , y_{10}, y_{11} \\end{bmatrix}^\\top \\\\ \\end{bmatrix}\n",
        "$\n",
        "\n",
        "where, $y_i = \\lceil x_i \\rceil$"
      ]
    },
    {
      "cell_type": "markdown",
      "metadata": {
        "id": "29KrrLRBDP9i"
      },
      "source": [
        "In the following step we initialize our solution vector $s$ with zeroes"
      ]
    },
    {
      "cell_type": "code",
      "metadata": {
        "colab": {
          "base_uri": "https://localhost:8080/"
        },
        "id": "kQLqclZakGJU",
        "outputId": "aa284aab-b64f-4028-8084-3c3787fafb8d"
      },
      "source": [
        "solutions = np.zeros((4,2,3))\n",
        "solutions"
      ],
      "execution_count": null,
      "outputs": [
        {
          "output_type": "execute_result",
          "data": {
            "text/plain": [
              "array([[[0., 0., 0.],\n",
              "        [0., 0., 0.]],\n",
              "\n",
              "       [[0., 0., 0.],\n",
              "        [0., 0., 0.]],\n",
              "\n",
              "       [[0., 0., 0.],\n",
              "        [0., 0., 0.]],\n",
              "\n",
              "       [[0., 0., 0.],\n",
              "        [0., 0., 0.]]])"
            ]
          },
          "metadata": {
            "tags": []
          },
          "execution_count": 102
        }
      ]
    },
    {
      "cell_type": "code",
      "metadata": {
        "colab": {
          "base_uri": "https://localhost:8080/"
        },
        "id": "fvKCIeW2pFBp",
        "outputId": "d2f6fab8-f8b7-446d-d88e-d3f8ec5fe0fe"
      },
      "source": [
        "solutions.shape"
      ],
      "execution_count": null,
      "outputs": [
        {
          "output_type": "execute_result",
          "data": {
            "text/plain": [
              "(4, 2, 3)"
            ]
          },
          "metadata": {
            "tags": []
          },
          "execution_count": 103
        }
      ]
    },
    {
      "cell_type": "markdown",
      "metadata": {
        "id": "Iy0rIt1DLIod"
      },
      "source": [
        "#### Scenaro 1 Solution"
      ]
    },
    {
      "cell_type": "markdown",
      "metadata": {
        "id": "QpeGBAarDacA"
      },
      "source": [
        "Given the set of linear equations, represented as $Ax = B$, loading our coefficients matrix $A$"
      ]
    },
    {
      "cell_type": "code",
      "metadata": {
        "colab": {
          "base_uri": "https://localhost:8080/"
        },
        "id": "t9zORRdpr5WD",
        "outputId": "2a14337f-c4f4-48fa-8117-6a4007fb59d8"
      },
      "source": [
        "A = np.array([[20, 4, 4], [10, 14, 5], [5, 5, 12]])\n",
        "A"
      ],
      "execution_count": null,
      "outputs": [
        {
          "output_type": "execute_result",
          "data": {
            "text/plain": [
              "array([[20,  4,  4],\n",
              "       [10, 14,  5],\n",
              "       [ 5,  5, 12]])"
            ]
          },
          "metadata": {
            "tags": []
          },
          "execution_count": 104
        }
      ]
    },
    {
      "cell_type": "markdown",
      "metadata": {
        "id": "Nddbl2UtEULQ"
      },
      "source": [
        "For a solution to exist, $\\det A \\neq 0$ must be satisfied"
      ]
    },
    {
      "cell_type": "code",
      "metadata": {
        "colab": {
          "base_uri": "https://localhost:8080/"
        },
        "id": "cySaA4riQP2p",
        "outputId": "7365bfb3-28a7-496c-8e41-170583f0a00c"
      },
      "source": [
        "np.linalg.det(A) != 0"
      ],
      "execution_count": null,
      "outputs": [
        {
          "output_type": "execute_result",
          "data": {
            "text/plain": [
              "True"
            ]
          },
          "metadata": {
            "tags": []
          },
          "execution_count": 105
        }
      ]
    },
    {
      "cell_type": "markdown",
      "metadata": {
        "id": "N6AhqkyOFSSh"
      },
      "source": [
        "Loading terms matrix $B$"
      ]
    },
    {
      "cell_type": "code",
      "metadata": {
        "colab": {
          "base_uri": "https://localhost:8080/"
        },
        "id": "S9h26gXp_uVx",
        "outputId": "93c3d3e7-b4f1-421d-cfe3-1a74ce1ac145"
      },
      "source": [
        "B = np.array([6600, 5100, 3100])\n",
        "B"
      ],
      "execution_count": null,
      "outputs": [
        {
          "output_type": "execute_result",
          "data": {
            "text/plain": [
              "array([6600, 5100, 3100])"
            ]
          },
          "metadata": {
            "tags": []
          },
          "execution_count": 106
        }
      ]
    },
    {
      "cell_type": "markdown",
      "metadata": {
        "id": "ipoZIgBrFkwf"
      },
      "source": [
        "Solving for $x$ given, $A$ and $B$, and setting it to $x$ of $s_{0}$"
      ]
    },
    {
      "cell_type": "code",
      "metadata": {
        "colab": {
          "base_uri": "https://localhost:8080/"
        },
        "id": "T-4WDBzTsy_J",
        "outputId": "1f954ad4-3ac5-47da-cb75-acf0bede4430"
      },
      "source": [
        "solutions[0,0] = np.linalg.solve(A, B)\n",
        "solutions"
      ],
      "execution_count": null,
      "outputs": [
        {
          "output_type": "execute_result",
          "data": {
            "text/plain": [
              "array([[[287.25, 128.75,  85.  ],\n",
              "        [  0.  ,   0.  ,   0.  ]],\n",
              "\n",
              "       [[  0.  ,   0.  ,   0.  ],\n",
              "        [  0.  ,   0.  ,   0.  ]],\n",
              "\n",
              "       [[  0.  ,   0.  ,   0.  ],\n",
              "        [  0.  ,   0.  ,   0.  ]],\n",
              "\n",
              "       [[  0.  ,   0.  ,   0.  ],\n",
              "        [  0.  ,   0.  ,   0.  ]]])"
            ]
          },
          "metadata": {
            "tags": []
          },
          "execution_count": 107
        }
      ]
    },
    {
      "cell_type": "markdown",
      "metadata": {
        "id": "wZt-elZLFyvn"
      },
      "source": [
        "calculating and setting $y$ of $s_0$"
      ]
    },
    {
      "cell_type": "code",
      "metadata": {
        "colab": {
          "base_uri": "https://localhost:8080/"
        },
        "id": "yvVgjPi8hxL9",
        "outputId": "d316a951-f046-490a-d9cb-5b2588fc6266"
      },
      "source": [
        "solutions[0,1] = np.ceil(solutions[0,0])\n",
        "solutions"
      ],
      "execution_count": null,
      "outputs": [
        {
          "output_type": "execute_result",
          "data": {
            "text/plain": [
              "array([[[287.25, 128.75,  85.  ],\n",
              "        [288.  , 129.  ,  85.  ]],\n",
              "\n",
              "       [[  0.  ,   0.  ,   0.  ],\n",
              "        [  0.  ,   0.  ,   0.  ]],\n",
              "\n",
              "       [[  0.  ,   0.  ,   0.  ],\n",
              "        [  0.  ,   0.  ,   0.  ]],\n",
              "\n",
              "       [[  0.  ,   0.  ,   0.  ],\n",
              "        [  0.  ,   0.  ,   0.  ]]])"
            ]
          },
          "metadata": {
            "tags": []
          },
          "execution_count": 108
        }
      ]
    },
    {
      "cell_type": "markdown",
      "metadata": {
        "id": "oVjuwMVTGUFG"
      },
      "source": [
        "***"
      ]
    },
    {
      "cell_type": "markdown",
      "metadata": {
        "id": "nY-rFiKAbVl3"
      },
      "source": [
        "Suppose the total demand for all products **doubled**. What would the solution now be? How does it compare to the original solution? Why, mathematically, should this have been expected?"
      ]
    },
    {
      "cell_type": "markdown",
      "metadata": {
        "id": "cBCGX7NHL1d-"
      },
      "source": [
        "#### Scenaro 2 Solution"
      ]
    },
    {
      "cell_type": "markdown",
      "metadata": {
        "id": "gxAOzBVUGej4"
      },
      "source": [
        "Only the terms, i.e. matrix $B$ will change.\n",
        "We solve for $x$ given same $A$, then calculate $y$ and set on $s_{1}$"
      ]
    },
    {
      "cell_type": "code",
      "metadata": {
        "id": "OODSS2bFcjKV",
        "colab": {
          "base_uri": "https://localhost:8080/"
        },
        "outputId": "7f198b83-f139-4d14-e803-4a0b2f1fb348"
      },
      "source": [
        "twice_B = 2 * B\n",
        "twice_B"
      ],
      "execution_count": null,
      "outputs": [
        {
          "output_type": "execute_result",
          "data": {
            "text/plain": [
              "array([13200, 10200,  6200])"
            ]
          },
          "metadata": {
            "tags": []
          },
          "execution_count": 109
        }
      ]
    },
    {
      "cell_type": "code",
      "metadata": {
        "colab": {
          "base_uri": "https://localhost:8080/"
        },
        "id": "gywm-42QLjGC",
        "outputId": "d15d9481-6adf-4f48-bc86-f7d8f8f3ee04"
      },
      "source": [
        "solutions[1, 0] = np.linalg.solve(A, twice_B)\n",
        "solutions[1, 1] = np.ceil(solutions[1, 0])\n",
        "solutions"
      ],
      "execution_count": null,
      "outputs": [
        {
          "output_type": "execute_result",
          "data": {
            "text/plain": [
              "array([[[287.25, 128.75,  85.  ],\n",
              "        [288.  , 129.  ,  85.  ]],\n",
              "\n",
              "       [[574.5 , 257.5 , 170.  ],\n",
              "        [575.  , 258.  , 170.  ]],\n",
              "\n",
              "       [[  0.  ,   0.  ,   0.  ],\n",
              "        [  0.  ,   0.  ,   0.  ]],\n",
              "\n",
              "       [[  0.  ,   0.  ,   0.  ],\n",
              "        [  0.  ,   0.  ,   0.  ]]])"
            ]
          },
          "metadata": {
            "tags": []
          },
          "execution_count": 110
        }
      ]
    },
    {
      "cell_type": "markdown",
      "metadata": {
        "id": "qn9LvJ7DHkwA"
      },
      "source": [
        "Let's compare vectors $x$ of $s_0$ and $s_1$. It looks like $s_0$ has been scaled, so we will calculate its proportion to $s1$"
      ]
    },
    {
      "cell_type": "code",
      "metadata": {
        "colab": {
          "base_uri": "https://localhost:8080/"
        },
        "id": "M_Dqo2Xhr3PK",
        "outputId": "5ed0d132-bba5-46a4-c0fb-497ee5402760"
      },
      "source": [
        "solutions[1, 0]/solutions[0, 0]"
      ],
      "execution_count": null,
      "outputs": [
        {
          "output_type": "execute_result",
          "data": {
            "text/plain": [
              "array([2., 2., 2.])"
            ]
          },
          "metadata": {
            "tags": []
          },
          "execution_count": 111
        }
      ]
    },
    {
      "cell_type": "markdown",
      "metadata": {
        "id": "p2ekQMtXMFiN"
      },
      "source": [
        "#### Scenario 2 Conclusion"
      ]
    },
    {
      "cell_type": "markdown",
      "metadata": {
        "id": "-8Ff_D6JIX4-"
      },
      "source": [
        "This concludes that given $s$ is the unique solution vector of the system of linear equations represented by $Ax = B$, scaling vector $B$ will have the same effect on vector $s$\n",
        "***"
      ]
    },
    {
      "cell_type": "markdown",
      "metadata": {
        "id": "p_1a-z0Gds6D"
      },
      "source": [
        "Suppose that the company acquires another group of distributors and that the daily demand of this group is 2000 gallons of motor oil, 4000 gallons of gasoline, and 4000 gallons of diesel oil. How would you set up production of just this supply? Are there any options (more than one way)?"
      ]
    },
    {
      "cell_type": "markdown",
      "metadata": {
        "id": "EIBqb-N2MPlD"
      },
      "source": [
        "#### Scenario 3 Solution"
      ]
    },
    {
      "cell_type": "markdown",
      "metadata": {
        "id": "VnbXdlwIJ6I_"
      },
      "source": [
        "We follow the same steps, set $B_{new}$, re-solve for $x$ & $y$ and set on $s_2$\n",
        "\n",
        "<br />\n",
        "We will need $s_2$ later"
      ]
    },
    {
      "cell_type": "code",
      "metadata": {
        "id": "gWaeKh6eQe2W",
        "colab": {
          "base_uri": "https://localhost:8080/"
        },
        "outputId": "2f066dee-171c-4620-973f-6e9f62c00917"
      },
      "source": [
        "new_B = np.array([2000, 4000, 4000])\n",
        "solutions[2, 0] = np.linalg.solve(A, new_B)\n",
        "solutions[2, 1] = np.ceil(solutions[2, 0])\n",
        "solutions"
      ],
      "execution_count": null,
      "outputs": [
        {
          "output_type": "execute_result",
          "data": {
            "text/plain": [
              "array([[[287.25, 128.75,  85.  ],\n",
              "        [288.  , 129.  ,  85.  ]],\n",
              "\n",
              "       [[574.5 , 257.5 , 170.  ],\n",
              "        [575.  , 258.  , 170.  ]],\n",
              "\n",
              "       [[ 12.5 , 187.5 , 250.  ],\n",
              "        [ 13.  , 188.  , 250.  ]],\n",
              "\n",
              "       [[  0.  ,   0.  ,   0.  ],\n",
              "        [  0.  ,   0.  ,   0.  ]]])"
            ]
          },
          "metadata": {
            "tags": []
          },
          "execution_count": 112
        }
      ]
    },
    {
      "cell_type": "markdown",
      "metadata": {
        "id": "45DxlWCaKrh_"
      },
      "source": [
        "***"
      ]
    },
    {
      "cell_type": "markdown",
      "metadata": {
        "id": "H4sayZf1etbN"
      },
      "source": [
        "Next, calculate the needs of each factory (in barrels of crude, as usual) to meet the total demand of both groups of distributors. When you have done this, compare your answer to results already obtained. What mathematical conclusion can you draw?"
      ]
    },
    {
      "cell_type": "markdown",
      "metadata": {
        "id": "9PJ7DLPXMbnb"
      },
      "source": [
        "#### Scenario 4 Solution"
      ]
    },
    {
      "cell_type": "markdown",
      "metadata": {
        "id": "77mcTivtOV3s"
      },
      "source": [
        "Set $B_{combined}$ and rest same"
      ]
    },
    {
      "cell_type": "code",
      "metadata": {
        "id": "Hjm5kcawewgT",
        "colab": {
          "base_uri": "https://localhost:8080/"
        },
        "outputId": "fa892efe-b324-4050-d531-1410390dac43"
      },
      "source": [
        "combined_B = B + new_B\n",
        "solutions[3, 0] = np.linalg.solve(A, combined_B)\n",
        "solutions[3, 1] = np.ceil(solutions[3, 0])\n",
        "solutions"
      ],
      "execution_count": null,
      "outputs": [
        {
          "output_type": "execute_result",
          "data": {
            "text/plain": [
              "array([[[287.25, 128.75,  85.  ],\n",
              "        [288.  , 129.  ,  85.  ]],\n",
              "\n",
              "       [[574.5 , 257.5 , 170.  ],\n",
              "        [575.  , 258.  , 170.  ]],\n",
              "\n",
              "       [[ 12.5 , 187.5 , 250.  ],\n",
              "        [ 13.  , 188.  , 250.  ]],\n",
              "\n",
              "       [[299.75, 316.25, 335.  ],\n",
              "        [300.  , 317.  , 335.  ]]])"
            ]
          },
          "metadata": {
            "tags": []
          },
          "execution_count": 113
        }
      ]
    },
    {
      "cell_type": "markdown",
      "metadata": {
        "id": "lLNs6TMHNEh2"
      },
      "source": [
        "Visual comparison hints $s_3$ = $s_0$ + $s_2$\n",
        "\n",
        "<br />\n",
        "Let's confirm this"
      ]
    },
    {
      "cell_type": "code",
      "metadata": {
        "colab": {
          "base_uri": "https://localhost:8080/"
        },
        "id": "JsOw4ZaOrGsK",
        "outputId": "03cdb5e9-437f-44c6-f225-5db190f4765d"
      },
      "source": [
        "np.equal(solutions[0, 0] + solutions[2, 0], solutions[3, 0])"
      ],
      "execution_count": null,
      "outputs": [
        {
          "output_type": "execute_result",
          "data": {
            "text/plain": [
              "array([ True,  True,  True])"
            ]
          },
          "metadata": {
            "tags": []
          },
          "execution_count": 114
        }
      ]
    },
    {
      "cell_type": "markdown",
      "metadata": {
        "id": "EcFwzJ1TOLMK"
      },
      "source": [
        "#### Scenario 4 Conclusion"
      ]
    },
    {
      "cell_type": "markdown",
      "metadata": {
        "id": "iBpHvW--OTOr"
      },
      "source": [
        "This concludes that vector $dot$ products are $distributive$, i.e.\n",
        "$A.(s_0 + s_2) = B_{combined} = B + B_{new} = A.s_0 + A.s_2$\n",
        "***"
      ]
    },
    {
      "cell_type": "markdown",
      "metadata": {
        "id": "ov7RWVpSpzhw"
      },
      "source": [
        "### Sensitivity and Robustness"
      ]
    },
    {
      "cell_type": "markdown",
      "metadata": {
        "id": "G1MVw0x_fQMC"
      },
      "source": [
        "In real life applications, constants are rarely ever exactly equal to their stated value; certain amounts of uncertainty are always present. This is part of the reason for the science of statistics. In the above model, the daily productions for the plants would be averages over a period of time. Explore what effect small changes in the parameters have on the output.\n",
        "\n",
        "To do this, pick any 3 coefficients, one at a time, and increase or decrease them by 3%. For each case , note what effect this has on the solution, as a percentage change. Can you draw any overall conclusion?"
      ]
    },
    {
      "cell_type": "code",
      "metadata": {
        "id": "ObBZDKvYfqie",
        "colab": {
          "base_uri": "https://localhost:8080/"
        },
        "outputId": "751a5616-5b54-4e8c-e682-a508aacc26dc"
      },
      "source": [
        "# YOUR CODE HERE\n",
        "steps = np.arange(-0.03, 0.03, 0.001)\n",
        "steps"
      ],
      "execution_count": null,
      "outputs": [
        {
          "output_type": "execute_result",
          "data": {
            "text/plain": [
              "array([-3.00000000e-02, -2.90000000e-02, -2.80000000e-02, -2.70000000e-02,\n",
              "       -2.60000000e-02, -2.50000000e-02, -2.40000000e-02, -2.30000000e-02,\n",
              "       -2.20000000e-02, -2.10000000e-02, -2.00000000e-02, -1.90000000e-02,\n",
              "       -1.80000000e-02, -1.70000000e-02, -1.60000000e-02, -1.50000000e-02,\n",
              "       -1.40000000e-02, -1.30000000e-02, -1.20000000e-02, -1.10000000e-02,\n",
              "       -1.00000000e-02, -9.00000000e-03, -8.00000000e-03, -7.00000000e-03,\n",
              "       -6.00000000e-03, -5.00000000e-03, -4.00000000e-03, -3.00000000e-03,\n",
              "       -2.00000000e-03, -1.00000000e-03,  2.77555756e-17,  1.00000000e-03,\n",
              "        2.00000000e-03,  3.00000000e-03,  4.00000000e-03,  5.00000000e-03,\n",
              "        6.00000000e-03,  7.00000000e-03,  8.00000000e-03,  9.00000000e-03,\n",
              "        1.00000000e-02,  1.10000000e-02,  1.20000000e-02,  1.30000000e-02,\n",
              "        1.40000000e-02,  1.50000000e-02,  1.60000000e-02,  1.70000000e-02,\n",
              "        1.80000000e-02,  1.90000000e-02,  2.00000000e-02,  2.10000000e-02,\n",
              "        2.20000000e-02,  2.30000000e-02,  2.40000000e-02,  2.50000000e-02,\n",
              "        2.60000000e-02,  2.70000000e-02,  2.80000000e-02,  2.90000000e-02])"
            ]
          },
          "metadata": {
            "tags": []
          },
          "execution_count": 25
        }
      ]
    },
    {
      "cell_type": "code",
      "metadata": {
        "colab": {
          "base_uri": "https://localhost:8080/"
        },
        "id": "ANDTvYyRUFwD",
        "outputId": "e463b818-39a9-488a-c677-b1078e78b248"
      },
      "source": [
        "steps.shape"
      ],
      "execution_count": null,
      "outputs": [
        {
          "output_type": "execute_result",
          "data": {
            "text/plain": [
              "(60,)"
            ]
          },
          "metadata": {
            "tags": []
          },
          "execution_count": 26
        }
      ]
    },
    {
      "cell_type": "code",
      "metadata": {
        "id": "Y6_UB6FOWWIC"
      },
      "source": [
        "sensitive_coefficients_A_mo = "
      ],
      "execution_count": null,
      "outputs": []
    },
    {
      "cell_type": "markdown",
      "metadata": {
        "id": "TMiIXKye05JG"
      },
      "source": [
        "#### Sensitivity of Production to coefficients"
      ]
    },
    {
      "cell_type": "code",
      "metadata": {
        "colab": {
          "base_uri": "https://localhost:8080/"
        },
        "id": "kOVZjgomUcLX",
        "outputId": "c5430e64-bb29-445a-b735-e07955d7dada"
      },
      "source": [
        ""
      ],
      "execution_count": null,
      "outputs": [
        {
          "output_type": "execute_result",
          "data": {
            "text/plain": [
              "array([286., 127.,  95.])"
            ]
          },
          "metadata": {
            "tags": []
          },
          "execution_count": 32
        }
      ]
    },
    {
      "cell_type": "markdown",
      "metadata": {
        "id": "mNcCMpaY1oOL"
      },
      "source": [
        "#### Sensitivity of Input costs(volume) to coefficients"
      ]
    },
    {
      "cell_type": "markdown",
      "metadata": {
        "id": "JOj5wcxQpzhx"
      },
      "source": [
        "### A Plant Off-Line"
      ]
    },
    {
      "cell_type": "markdown",
      "metadata": {
        "id": "Dbm0HcJ7frNz"
      },
      "source": [
        "Suppose factory $C$ is shut down by the EPA (Environmental Protection Agency) temporarily for excessive emissions into the atmosphere. If your demand is as it was originally (6600, 5100, 3100), what would you now say about the companies ability to meet it? What do you recommend they schedule for production now?"
      ]
    },
    {
      "cell_type": "code",
      "metadata": {
        "id": "VV5Q7bCIglHa"
      },
      "source": [
        "# Code here"
      ],
      "execution_count": null,
      "outputs": []
    },
    {
      "cell_type": "markdown",
      "metadata": {
        "id": "tZpzEVmEpzhx"
      },
      "source": [
        "### Buying another plant"
      ]
    },
    {
      "cell_type": "markdown",
      "metadata": {
        "id": "X0ghbS-s3Mel"
      },
      "source": [
        "This situation has caused enough concern that the CEO is considering buying another plant, identical to the third, and using it permanently. Assuming that all 4 plants are on line, what production do you recommend to meet the current demand (5000, 8500, 10000)? In general, what can you say about any increased flexibility that the 4th plant might provide?"
      ]
    },
    {
      "cell_type": "markdown",
      "metadata": {
        "id": "IcbiTq8zpzhx"
      },
      "source": [
        "Let the number of barrels used by factory $A$, $B$, $C$ and $D$ are $x$, $y$, $z$ and $w$ respectively.\n",
        "\n",
        "Then the system of linear equations will be\n",
        "\n",
        "$$20x + 4y + 4z + 4w = 5000$$\n",
        "\n",
        "$$10x + 14y + 5z + 5w = 8500$$\n",
        "\n",
        "$$5x + 5y + 12z + 12w = 10000$$\n",
        "\n",
        "The above system of linear equation has fewer equations than variables, hence it is *underdetermined* and cannot have a unique solution. In this case, there are either infinitely many solutions or no exact solution. We can solve it by keeping $w$ as constant and using [rref](http://linear.ups.edu/html/section-RREF.html) form to solve the system of linear equation.\n",
        "\n",
        "To know about rref implementation in python refer [here](https://docs.sympy.org/latest/tutorial/matrices.html#rref)."
      ]
    },
    {
      "cell_type": "code",
      "metadata": {
        "id": "DnCYG65tB8gp"
      },
      "source": [
        "# create symbol 'w'\n",
        "w = sy.Symbol(\"w\")            \n",
        "A_aug = sy.Matrix([[20, 4, 4, 5000-4*w], \n",
        "                   [10, 14, 5, 8500-5*w], \n",
        "                   [5, 5, 12, 10000-12*w]])\n",
        "# show rref form\n",
        "A_aug.rref()                  "
      ],
      "execution_count": null,
      "outputs": []
    },
    {
      "cell_type": "markdown",
      "metadata": {
        "id": "1lcEL3n5pzhz"
      },
      "source": [
        "From the above result, it can be seen that 4th plant will share the number of barrels required by the 3rd plant only, while the requirement of 1st and 2nd plant will remain unaffected."
      ]
    },
    {
      "cell_type": "markdown",
      "metadata": {
        "id": "yE9hCfAMpzhz"
      },
      "source": [
        "### Calculate the amount of Paraffin supplied"
      ]
    },
    {
      "cell_type": "markdown",
      "metadata": {
        "id": "u9HSGUeZquXD"
      },
      "source": [
        "The company has just found a candle company that will buy its paraffin. Under the current conditions (i.e, after buying another plant) for demand (5000, 8500, 10000), how much can be supplied to them per day?"
      ]
    },
    {
      "cell_type": "markdown",
      "metadata": {
        "id": "ilEui1GHA3Oh"
      },
      "source": [
        "According to the problem statement, factory $A$ has 3 gallons of paraffin to dispose of per barrel of crude oil, factory $B$ 5 gallons, and factory $C$ 2 gallons."
      ]
    },
    {
      "cell_type": "code",
      "metadata": {
        "id": "gJnUalG2_r0i"
      },
      "source": [
        "# YOUR CODE HERE"
      ],
      "execution_count": null,
      "outputs": []
    },
    {
      "cell_type": "markdown",
      "metadata": {
        "id": "sSpnIH4Ypzh0"
      },
      "source": [
        "### Selling the first plant"
      ]
    },
    {
      "cell_type": "markdown",
      "metadata": {
        "id": "8l3c1GN14EDp"
      },
      "source": [
        "The management is also considering selling the first plant due to aging equipment and high workman's compensation costs for the state it is located in. They would like to know what this would do to their production capability. Specifically, they would like an example of a demand they could not meet with only plants 2 and 3, and also what effect having plant 4 has (recall it is identical to plant 3). They would also like an example of a demand that they could meet with just plants 2 and 3. Any general statements you could make here would be helpful."
      ]
    },
    {
      "cell_type": "markdown",
      "metadata": {
        "id": "qYz46wb2GTo7"
      },
      "source": [
        "Let the number of barrels used by factory $B$, $C$ and $D$ are $y$, $z$ and $w$ respectively.\n",
        "\n",
        "When considering only plants 2 and 3, and demand (5000, 8500, 10000) then we have\n",
        "\n",
        "$$4y + 4z = 5000$$\n",
        "\n",
        "$$14y + 5z = 8500$$\n",
        "\n",
        "$$5y + 12z = 10000$$"
      ]
    },
    {
      "cell_type": "code",
      "metadata": {
        "id": "Ru-prbsHGwH_"
      },
      "source": [
        "# YOUR CODE HERE"
      ],
      "execution_count": null,
      "outputs": []
    },
    {
      "cell_type": "markdown",
      "metadata": {
        "id": "bLsK1-zNEP0T"
      },
      "source": [
        "Taking 4th plant into consideration.\n",
        "Let the number of barrels used by factory $B$, $C$ and $D$ are $y$, $z$ and $w$ respectively.\n",
        "\n",
        "Then for demand (5000, 8500, 10000) the system of linear equations will be\n",
        "\n",
        "$$4y + 4z + 4w = 5000$$\n",
        "\n",
        "$$14y + 5z + 5w = 8500$$\n",
        "\n",
        "$$5y + 12z + 12w = 10000$$\n",
        "\n",
        "Solve it using rref form."
      ]
    },
    {
      "cell_type": "code",
      "metadata": {
        "id": "5lqPcpJ9F9xx"
      },
      "source": [
        "# YOUR CODE HERE"
      ],
      "execution_count": null,
      "outputs": []
    },
    {
      "cell_type": "markdown",
      "metadata": {
        "id": "u7SDjgFkP5fj"
      },
      "source": [
        "Now, changing demand to (6600, 5100, 3100) and solving the system of equation using rref form."
      ]
    },
    {
      "cell_type": "code",
      "metadata": {
        "id": "nwSpgbqAGlON"
      },
      "source": [
        "# YOUR CODE HERE"
      ],
      "execution_count": null,
      "outputs": []
    },
    {
      "cell_type": "markdown",
      "metadata": {
        "id": "fngUPMK_pzh1"
      },
      "source": [
        "### Set rates for Products"
      ]
    },
    {
      "cell_type": "markdown",
      "metadata": {
        "id": "8Go0tQYtpzh1"
      },
      "source": [
        "Company wants to set the rates of motor oil, diesel oil, and gasoline. For this purpose they have few suggestions given as follows: \n",
        "\n",
        "* 100, 66, 102 Rupees per gallon,\n",
        "\n",
        "* 104, 64, 100 Rupees per gallon,\n",
        "\n",
        "* 102, 68, 98 Rupees per gallon, and\n",
        "\n",
        "* 96, 68, 100 Rupees per gallon \n",
        "\n",
        "for motor oil, diesel oil, and gasoline respectively.\n",
        "\n",
        "Using matrix multiplication, find the rates which results in maximum total price."
      ]
    },
    {
      "cell_type": "markdown",
      "metadata": {
        "id": "9yRue5zIpzh1"
      },
      "source": [
        "Let $M$ denotes the matrix such that rows represents different plants (A, B and C), columns represents different products (motor oil, diesel oil and gasoline) and each value represents production of that product from one barrel of crude oil for that plant.\n",
        "\n",
        "$$M = \\begin{bmatrix}\n",
        "20 & 10 & 5 \\\\ \n",
        "4 & 14 & 5  \\\\ \n",
        " 4 & 5 & 12  \n",
        "\\end{bmatrix}$$\n",
        "\n",
        "Also, $R$ is a matrix having different rates as its columns.\n",
        "\n",
        "$$R = \\begin{bmatrix}\n",
        "100 & 104 & 102 & 96 \\\\ \n",
        "66 & 64 & 68 & 68  \\\\ \n",
        "102 & 100 & 98 & 100  \n",
        "\\end{bmatrix}$$"
      ]
    },
    {
      "cell_type": "code",
      "metadata": {
        "id": "Sz5Bef3npzh1"
      },
      "source": [
        "# YOUR CODE HERE\n",
        "m_data = [[20, 10, 5], [4, 14, 5], [4, 5, 12]]\n",
        "m = np.array(m_data)\n",
        "m"
      ],
      "execution_count": null,
      "outputs": []
    },
    {
      "cell_type": "code",
      "metadata": {
        "id": "OiOHgg8inSTt"
      },
      "source": [
        "r_data = [[100, 104, 102, 96], [66, 64, 68, 68], [102, 100, 98, 100]]\n",
        "r = np.array(r_data)\n",
        "r"
      ],
      "execution_count": null,
      "outputs": []
    },
    {
      "cell_type": "markdown",
      "metadata": {
        "id": "oLoM_TLaphe0"
      },
      "source": [
        "Dot product of M and R will give us total price across plants (i.e. rows) and scenarios (ie. columns)"
      ]
    },
    {
      "cell_type": "code",
      "metadata": {
        "id": "A8R9F4IbnhYX"
      },
      "source": [
        "total_price = m.dot(r)\n",
        "total_price"
      ],
      "execution_count": null,
      "outputs": []
    },
    {
      "cell_type": "code",
      "metadata": {
        "id": "24qEd2Rspzj1"
      },
      "source": [
        "total_price_across_plants = np.array(total_price.sum(axis=0), dtype = np.int32)\n",
        "total_price_across_plants"
      ],
      "execution_count": null,
      "outputs": []
    },
    {
      "cell_type": "code",
      "metadata": {
        "id": "rKMnwe5y8v59"
      },
      "source": [
        "max_total_price = np.max(total_price_across_plants)\n",
        "max_total_price"
      ],
      "execution_count": null,
      "outputs": []
    },
    {
      "cell_type": "code",
      "metadata": {
        "id": "t8yvUV_D-NvO"
      },
      "source": [
        "scenario = np.where(total_price_across_plants == max_total_price)\n",
        "print(\"The scenario which gives maximum pricing : {}\".format(scenario[0][0]))"
      ],
      "execution_count": null,
      "outputs": []
    },
    {
      "cell_type": "markdown",
      "metadata": {
        "id": "cga8JrkApzh1"
      },
      "source": [
        "### Marginal Cost"
      ]
    },
    {
      "cell_type": "markdown",
      "metadata": {
        "id": "8nN5V5NXpzh2"
      },
      "source": [
        "The total cost $C(x)$ in Rupees, associated with the production of $x$ gallons of gasoline is given by \n",
        "\n",
        "$$C(x) = 0.005 x^3 – 0.02 x^2 + 30x + 5000$$\n",
        "\n",
        "Find the marginal cost when $22$ gallons are produced, where, marginal cost means the instantaneous rate of change of total cost at any level of output."
      ]
    },
    {
      "cell_type": "code",
      "metadata": {
        "id": "rO-HMED3pzh2"
      },
      "source": [
        "# YOUR CODE HERE"
      ],
      "execution_count": null,
      "outputs": []
    },
    {
      "cell_type": "markdown",
      "metadata": {
        "id": "qOMlrDEhpzh2"
      },
      "source": [
        "### Marginal Revenue"
      ]
    },
    {
      "cell_type": "markdown",
      "metadata": {
        "id": "bfS88lmWpzh2"
      },
      "source": [
        "The total revenue in Rupees received from the sale of $x$ gallons of a motor oil is given by $$R(x) = 3x^2 + 36x + 5.$$ \n",
        "\n",
        "Find the marginal revenue, when $x = 28$, where, marginal revenue means the rate of change of total revenue with respect to the number of items sold at an instant."
      ]
    },
    {
      "cell_type": "code",
      "metadata": {
        "id": "rb0h6p49pzh2"
      },
      "source": [
        "# YOUR CODE HERE\n",
        "# MR(x) = 6x + 36 = dR/dx\n",
        "\n",
        "from sympy import Symbol, diff\n",
        "  \n",
        "x = Symbol('x')\n",
        "R = 3 * x**2 + 36 * x + 5\n",
        "print(\"Revenue function : {} \".format(R))\n",
        "   \n",
        "MR = diff(R, x)  \n",
        "      \n",
        "print(\"Marginal Revenue function : {} \".format(MR))\n",
        "\n",
        "# Marginal revenue when x = 28\n",
        "print(\"Marginal revenue is : {}\".format(MR.evalf(subs = {x: 28})))\n",
        "\n"
      ],
      "execution_count": null,
      "outputs": []
    },
    {
      "cell_type": "markdown",
      "metadata": {
        "id": "ZKb5VuM_pzh2"
      },
      "source": [
        "### Pour crude oil in tank"
      ]
    },
    {
      "cell_type": "markdown",
      "metadata": {
        "id": "TD9zv5jPpzh2"
      },
      "source": [
        "In a cylindrical tank of radius 10 meter, crude oil is being poured at the rate of 314 cubic meter per hour. Then find\n",
        "\n",
        "* the rate at which the height of the tank is increasing, and\n",
        "* the height of crude oil in tank after 2 hours."
      ]
    },
    {
      "cell_type": "code",
      "metadata": {
        "id": "g6ntcdNypzh2"
      },
      "source": [
        "# YOUR CODE HERE"
      ],
      "execution_count": null,
      "outputs": []
    }
  ]
}